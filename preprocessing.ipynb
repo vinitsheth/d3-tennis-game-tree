{
 "cells": [
  {
   "cell_type": "code",
   "execution_count": 84,
   "metadata": {},
   "outputs": [],
   "source": [
    "import pandas as pd\n",
    "import json"
   ]
  },
  {
   "cell_type": "code",
   "execution_count": 85,
   "metadata": {},
   "outputs": [],
   "source": [
    "df = pd.read_csv('data.csv')"
   ]
  },
  {
   "cell_type": "code",
   "execution_count": 86,
   "metadata": {},
   "outputs": [],
   "source": [
    "years = df.year.unique()"
   ]
  },
  {
   "cell_type": "code",
   "execution_count": 87,
   "metadata": {},
   "outputs": [],
   "source": [
    "def paresematch(match):\n",
    "    match = str(match)\n",
    "    d= {}\n",
    "    \n",
    "    d['w1'] = 0\n",
    "    d['w2'] = 0\n",
    "    d['w3'] = 0\n",
    "    d['w4'] = 0\n",
    "    d['w5'] = 0\n",
    "    \n",
    "    d['l1'] = 0\n",
    "    d['l2'] = 0\n",
    "    d['l3'] = 0\n",
    "    d['l4'] = 0\n",
    "    d['l5'] = 0\n",
    "    \n",
    "    l = match.split(' ')\n",
    "    i = 0\n",
    "    \n",
    "    while i<len(l):\n",
    "        curr = l[i]\n",
    "        if(curr == 'ret.'):\n",
    "            break\n",
    "        else:\n",
    "            currsplit = curr.split('-')\n",
    "            d[str('w'+str(i+1))] = currsplit[0]\n",
    "            d[str('l'+str(i+1))] = currsplit[1]\n",
    "        i+=1\n",
    "    return d\n",
    "            \n",
    "        "
   ]
  },
  {
   "cell_type": "code",
   "execution_count": 88,
   "metadata": {},
   "outputs": [],
   "source": [
    "def generateNode(row):\n",
    "    parentd = {}\n",
    "    parentd['name'] = row['winner']\n",
    "    roundp = -1\n",
    "    if row['round']=='Final':\n",
    "        roundp = 8\n",
    "    elif row['round']=='semi':\n",
    "        roundp = 7\n",
    "    elif row['round']=='quarter':\n",
    "        roundp = 6\n",
    "    elif row['round']=='Fourth':\n",
    "        roundp = 5\n",
    "    elif row['round']=='Third':\n",
    "        roundp = 4\n",
    "    elif row['round']=='Second':\n",
    "        roundp = 3\n",
    "    elif row['round']=='First':\n",
    "        roundp = 2\n",
    "    parentd['round'] = roundp\n",
    "    parentd['winner'] = row['player1']\n",
    "    parentd['looser'] = row['player2']\n",
    "    if row['round'] == 'First':\n",
    "        child1 = {}\n",
    "        child2= {}\n",
    "        child1['name'] = row['player1']\n",
    "        child2['name'] = row['player2']\n",
    "        child1['round']=1\n",
    "        child2['round']=1\n",
    "        child1['children'] =[]\n",
    "        child2['children'] =[]\n",
    "        parentd['children'] = [child1,child2]\n",
    "    else:\n",
    "#         child1 = {}\n",
    "#         child2= {}\n",
    "#         child1['name'] = row['player1']\n",
    "#         child2['name'] = row['player2']\n",
    "#         child1['round']=roundp-1\n",
    "#         child2['round']=roundp-1\n",
    "#         child1['children'] =[]\n",
    "#         child2['children'] =[]\n",
    "#         child1['match'] = None\n",
    "#         child2['match'] = None\n",
    "         parentd['children'] = []\n",
    "        \n",
    "    parentd['match'] = paresematch(row['results'])\n",
    "    \n",
    "    return parentd\n",
    "        \n",
    "    "
   ]
  },
  {
   "cell_type": "code",
   "execution_count": 94,
   "metadata": {},
   "outputs": [
    {
     "name": "stdout",
     "output_type": "stream",
     "text": [
      "2009\n",
      "2010\n",
      "2011\n",
      "2012\n",
      "2013\n",
      "2004\n",
      "2005\n",
      "2006\n",
      "2007\n",
      "2008\n",
      "2014\n"
     ]
    }
   ],
   "source": [
    "for year in years:\n",
    "    print (year)\n",
    "    current_Year_data = df.loc[df['year'] == year]\n",
    "    \n",
    "    d={}\n",
    "    dr = generateNode(current_Year_data.iloc[0])\n",
    "    final = dr\n",
    "    \n",
    "    d[(dr['winner'],dr['round'])] = dr\n",
    "    d[(dr['looser'],dr['round'])] = dr\n",
    "    \n",
    "    for i in range(1,len(current_Year_data)):\n",
    "        dr = generateNode(current_Year_data.iloc[i])\n",
    "        #print (i,dr)\n",
    "        drget = d.get((dr['name'],dr['round']+1),-1)\n",
    "        if drget !=-1:\n",
    "            drget['children'].append(dr)\n",
    "        d[((dr['winner'],dr['round']))] = dr\n",
    "        d[(dr['looser'],dr['round'])] = dr\n",
    "    with open(str('data/'+str(year)+'.json'),'w') as outfile:\n",
    "        json.dump(final,outfile)\n",
    "    "
   ]
  },
  {
   "cell_type": "code",
   "execution_count": 80,
   "metadata": {},
   "outputs": [],
   "source": []
  },
  {
   "cell_type": "code",
   "execution_count": null,
   "metadata": {},
   "outputs": [],
   "source": []
  },
  {
   "cell_type": "code",
   "execution_count": null,
   "metadata": {},
   "outputs": [],
   "source": []
  },
  {
   "cell_type": "code",
   "execution_count": null,
   "metadata": {},
   "outputs": [],
   "source": []
  }
 ],
 "metadata": {
  "kernelspec": {
   "display_name": "Python 3",
   "language": "python",
   "name": "python3"
  },
  "language_info": {
   "codemirror_mode": {
    "name": "ipython",
    "version": 3
   },
   "file_extension": ".py",
   "mimetype": "text/x-python",
   "name": "python",
   "nbconvert_exporter": "python",
   "pygments_lexer": "ipython3",
   "version": "3.7.1"
  }
 },
 "nbformat": 4,
 "nbformat_minor": 2
}
